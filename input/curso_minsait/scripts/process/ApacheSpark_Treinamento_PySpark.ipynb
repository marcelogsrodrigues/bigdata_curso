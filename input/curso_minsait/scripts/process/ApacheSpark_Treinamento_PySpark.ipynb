{
 "cells": [
  {
   "cell_type": "code",
   "execution_count": null,
   "metadata": {},
   "outputs": [],
   "source": [
    "import argparse\n",
    "from typing import Dict, Tuple, Any\n",
    "import json\n",
    "from pyspark.sql import SparkSession, DataFrame\n",
    "from pyspark.sql import HiveContext\n",
    "from pyspark.sql.functions import *\n",
    "import importlib\n"
   ]
  },
  {
   "cell_type": "code",
   "execution_count": 1,
   "metadata": {},
   "outputs": [],
   "source": [
    "df_categoria = spark.sql(\"select * from aula_hive.categoria\")"
   ]
  },
  {
   "cell_type": "code",
   "execution_count": 2,
   "metadata": {},
   "outputs": [
    {
     "data": {
      "text/plain": [
       "44"
      ]
     },
     "execution_count": 2,
     "metadata": {},
     "output_type": "execute_result"
    }
   ],
   "source": [
    "df_categoria.count()"
   ]
  },
  {
   "cell_type": "code",
   "execution_count": 3,
   "metadata": {},
   "outputs": [
    {
     "name": "stdout",
     "output_type": "stream",
     "text": [
      "+------------+---------------+-------------+\n",
      "|id_categoria|   ds_categoria|perc_parceiro|\n",
      "+------------+---------------+-------------+\n",
      "|id_categoria|   ds_categoria|perc_parceiro|\n",
      "|           1|Categoria - 001|          2.0|\n",
      "|           2|Categoria - 002|          2.0|\n",
      "|           3|Categoria - 003|          2.0|\n",
      "|           4|Categoria - 004|          2.0|\n",
      "|           5|Categoria - 005|          5.0|\n",
      "|           6|Categoria - 006|          1.0|\n",
      "|           7|Categoria - 007|          5.0|\n",
      "|           8|Categoria - 008|          3.0|\n",
      "|           9|Categoria - 009|          5.0|\n",
      "|          10|Categoria - 010|          6.0|\n",
      "|          11|Categoria - 011|          6.0|\n",
      "|          12|Categoria - 012|          4.0|\n",
      "|          13|Categoria - 013|          3.0|\n",
      "|          14|Categoria - 014|          1.0|\n",
      "|          15|Categoria - 015|          4.0|\n",
      "|          16|Categoria - 016|          3.0|\n",
      "|          17|Categoria - 017|          5.0|\n",
      "|          18|Categoria - 018|          1.0|\n",
      "|          19|Categoria - 019|          2.0|\n",
      "+------------+---------------+-------------+\n",
      "only showing top 20 rows\n",
      "\n"
     ]
    }
   ],
   "source": [
    "df_categoria.show()"
   ]
  },
  {
   "cell_type": "code",
   "execution_count": 5,
   "metadata": {},
   "outputs": [
    {
     "name": "stdout",
     "output_type": "stream",
     "text": [
      "+------------+---------------+-------------+\n",
      "|id_categoria|   ds_categoria|perc_parceiro|\n",
      "+------------+---------------+-------------+\n",
      "|           1|Categoria - 001|          2.0|\n",
      "|           2|Categoria - 002|          2.0|\n",
      "|           3|Categoria - 003|          2.0|\n",
      "|           4|Categoria - 004|          2.0|\n",
      "|          19|Categoria - 019|          2.0|\n",
      "|          22|Categoria - 022|          2.0|\n",
      "|          27|Categoria - 027|          2.0|\n",
      "|          38|Categoria - 038|          2.0|\n",
      "+------------+---------------+-------------+\n",
      "\n"
     ]
    }
   ],
   "source": [
    "df_categoria.filter(df_categoria.perc_parceiro == '2.0').show()"
   ]
  },
  {
   "cell_type": "code",
   "execution_count": null,
   "metadata": {},
   "outputs": [],
   "source": []
  }
 ],
 "metadata": {
  "kernelspec": {
   "display_name": "PySpark",
   "language": "python",
   "name": "pyspark"
  },
  "language_info": {
   "codemirror_mode": {
    "name": "ipython",
    "version": 3
   },
   "file_extension": ".py",
   "mimetype": "text/x-python",
   "name": "python",
   "nbconvert_exporter": "python",
   "pygments_lexer": "ipython3",
   "version": "3.6.10"
  }
 },
 "nbformat": 4,
 "nbformat_minor": 2
}
